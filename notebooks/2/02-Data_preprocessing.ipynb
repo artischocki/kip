{
 "cells": [
  {
   "cell_type": "markdown",
   "metadata": {},
   "source": [
    "# 1. Data Preparation\n",
    "Before starting to train the model, some steps need to be done."
   ]
  },
  {
   "cell_type": "markdown",
   "metadata": {},
   "source": [
    "# 1.1. ROI Extraction\n",
    "The images are large in size (above 2000 x 2000 pixels), so it is better to extract the area that is important to us by using a cropping function. This cropping process should be applied to both the image and the respective masks.\n",
    "\n",
    "<div style=\"text-align: center;\">\n",
    "    <img src=\"Images/image-11.png\" alt=\"Alt text\" style=\"display: block; margin: 0 auto;\">\n",
    "</div>\n"
   ]
  },
  {
   "cell_type": "markdown",
   "metadata": {},
   "source": [
    "* TASK:"
   ]
  },
  {
   "cell_type": "code",
   "execution_count": null,
   "metadata": {},
   "outputs": [],
   "source": [
    "import cv2\n",
    "import os\n",
    "\n",
    "# Input and output directories\n",
    "int_folder = \"Input Directory\"\n",
    "out_folder = \"Output Directory\"\n",
    "\n",
    "for filename in os.listdir(int_folder): \n",
    "    if filename.endswith(('.jpg', '.jpeg', '.png')):\n",
    "       #crop the center section ~> 1400W * 1840H"
   ]
  },
  {
   "cell_type": "markdown",
   "metadata": {},
   "source": [
    "# 1.2. Image Format Converting \n",
    "It is recommended to convert the format of both the image and mask to TIFF format, which is suitable for the recommended Convolutional Neural Network (CNN) model."
   ]
  },
  {
   "cell_type": "markdown",
   "metadata": {},
   "source": [
    "* TASK:"
   ]
  },
  {
   "cell_type": "code",
   "execution_count": null,
   "metadata": {},
   "outputs": [],
   "source": [
    "### Code\n",
    "##ConTif\n",
    "input_folder = \"Input Directory\"\n",
    "output_folder = \"Output Directory\"\n",
    "\n",
    "for filename in os.listdir(input_folder):\n",
    "    if filename.endswith(('.jpg', '.jpeg', '.png')):  # Add other image formats if needed\n",
    "    ###Convert it to Tif"
   ]
  },
  {
   "cell_type": "markdown",
   "metadata": {},
   "source": [
    "# 1.3. Image Augmentation\n",
    "\n",
    "After extracting the ROI and converting the image and mask to TIFF format, we need to increase our dataset size using augmentation techniques. Here's how you can implement this method, ensuring that the image name and the respective mask name are the same:\n",
    "\n",
    "* Define Augmentation Parameters: Determine the augmentation techniques to apply, such as rotation, flipping, scaling, etc.\n",
    "\n",
    "* Loop Through Images: Iterate through each image and its corresponding mask.\n",
    "\n",
    "* Apply Augmentation: Apply the defined augmentation techniques to both the image and its mask.\n",
    "\n",
    "* Save Augmented Images: Save the augmented images and their masks with the same names as the original images and masks.\n",
    "\n",
    "<div style=\"text-align: center;\">\n",
    "    <img src=\"Images/image-12.png\" alt=\"Alt text\" style=\"display: block; margin: 0 auto;\">\n",
    "</div>"
   ]
  },
  {
   "cell_type": "markdown",
   "metadata": {},
   "source": [
    "* TASK:"
   ]
  },
  {
   "cell_type": "code",
   "execution_count": null,
   "metadata": {},
   "outputs": [],
   "source": [
    "### Code\n",
    "import numpy as np\n",
    "import random\n",
    "import os\n",
    "from scipy.ndimage import rotate\n",
    "\n",
    "#Define functions for each operation\n",
    "def rotation(image, seed):\n",
    "    ...\n",
    "    return r_img\n",
    "\n",
    "def h_flip(image, seed):\n",
    "    ...\n",
    "    return  hflipped_img\n",
    "\n",
    "def v_flip(image, seed):\n",
    "    ...\n",
    "    return vflipped_img\n",
    "\n",
    "def v_transl(image, seed):\n",
    "    ...\n",
    "    return vtranslated_img\n",
    "\n",
    "def h_transl(image, seed):\n",
    "    ...\n",
    "    return htranslated_img"
   ]
  },
  {
   "cell_type": "markdown",
   "metadata": {},
   "source": [
    "* TASK:"
   ]
  },
  {
   "cell_type": "code",
   "execution_count": null,
   "metadata": {},
   "outputs": [],
   "source": [
    "###Use the functions to implement the augmentation for both images and masks\n",
    "transformations = {\n",
    "                 }                #use dictionary to store names of functions\n",
    "images_path=  #path to original images\n",
    "masks_path = #path to original masks\n",
    "img_augmented_path=  # path to store aumented images\n",
    "msk_augmented_path= # path to store aumented masks\n",
    "images=[] # to store paths of images from folder\n",
    "images_name=[]\n",
    "masks=[]\n",
    "masks_name=[]\n",
    "\n",
    "for im in os.listdir(images_path):  # read image name from folder and append its path into \"images\" array     \n",
    "    images.append(os.path.join(images_path,im))\n",
    "    images_name.append(im) \n",
    "\n",
    "for msk in os.listdir(masks_path):  # read image name from folder and append its path into \"images\" array     \n",
    "    masks.append(os.path.join(masks_path,msk))\n",
    "    masks_name.append(msk) "
   ]
  }
 ],
 "metadata": {
  "language_info": {
   "name": "python"
  },
  "orig_nbformat": 4
 },
 "nbformat": 4,
 "nbformat_minor": 2
}
