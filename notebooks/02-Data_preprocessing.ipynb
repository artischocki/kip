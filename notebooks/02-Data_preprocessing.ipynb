{
 "cells": [
  {
   "cell_type": "markdown",
   "metadata": {},
   "source": [
    "# 1. Data Preparation\n",
    "Before starting to train the model, some steps need to be done."
   ]
  },
  {
   "cell_type": "markdown",
   "metadata": {},
   "source": [
    "# 1.1. ROI Extraction\n",
    "The images are large in size (above 2000 x 2000 pixels), so it is better to extract the area that is important to us by using a cropping function. This cropping process should be applied to both the image and the respective masks.\n",
    "\n",
    "<div style=\"text-align: center;\">\n",
    "    <img src=\"Images/image-11.png\" alt=\"Alt text\" style=\"display: block; margin: 0 auto;\">\n",
    "</div>\n"
   ]
  },
  {
   "cell_type": "markdown",
   "metadata": {},
   "source": [
    "* TASK:"
   ]
  },
  {
   "cell_type": "code",
   "execution_count": 1,
   "metadata": {},
   "outputs": [],
   "source": [
    "import cv2\n",
    "import os\n",
    "from pathlib import Path\n",
    "from PIL import Image\n",
    "\n",
    "# Input and output directories\n",
    "raw_imgs = Path(\"../images/raw_images\").glob(\"*.jpg\")\n",
    "raw_labels = Path(\"../images/raw_labels\").glob(\"*.png\")\n",
    "cropped_img_dir = Path(\"../images/\") / \"cropped_images\"\n",
    "cropped_label_dir = Path(\"../images/\") / \"cropped_labels\"\n",
    "cropped_img_dir.mkdir(exist_ok=True)\n",
    "cropped_label_dir.mkdir(exist_ok=True)\n",
    "\n",
    "def crop_imgs(input_imgs, output_dir) -> None:\n",
    "   for img_path in input_imgs:\n",
    "      #crop the center section ~> 1400W * 1840H\n",
    "      with Image.open(img_path) as img:\n",
    "         width, height = img.size\n",
    "         left = (width - 1400) // 2\n",
    "         top = (height - 1840) // 2\n",
    "         right = left + 1400\n",
    "         bottom = top + 1840\n",
    "         cropped = img.crop((left, top, right, bottom))\n",
    "         cropped.save(output_dir / img_path.name)\n",
    "   return\n",
    "   \n",
    "crop_imgs(raw_imgs, cropped_img_dir)\n",
    "crop_imgs(raw_labels, cropped_label_dir)"
   ]
  },
  {
   "cell_type": "markdown",
   "metadata": {},
   "source": [
    "# 1.2. Image Format Converting \n",
    "It is recommended to convert the format of both the image and mask to TIFF format, which is suitable for the recommended Convolutional Neural Network (CNN) model."
   ]
  },
  {
   "cell_type": "markdown",
   "metadata": {},
   "source": [
    "* TASK:"
   ]
  },
  {
   "cell_type": "code",
   "execution_count": null,
   "metadata": {},
   "outputs": [],
   "source": [
    "### Code\n",
    "##ConTif\n",
    "input_folder = \"Input Directory\"\n",
    "output_folder = \"Output Directory\"\n",
    "\n",
    "for filename in os.listdir(input_folder):\n",
    "    if filename.endswith(('.jpg', '.jpeg', '.png')):  # Add other image formats if needed\n",
    "    ###Convert it to Tif"
   ]
  },
  {
   "cell_type": "markdown",
   "metadata": {},
   "source": [
    "# 1.3. Image Augmentation\n",
    "\n",
    "After extracting the ROI and converting the image and mask to TIFF format, we need to increase our dataset size using augmentation techniques. Here's how you can implement this method, ensuring that the image name and the respective mask name are the same:\n",
    "\n",
    "* Define Augmentation Parameters: Determine the augmentation techniques to apply, such as rotation, flipping, scaling, etc.\n",
    "\n",
    "* Loop Through Images: Iterate through each image and its corresponding mask.\n",
    "\n",
    "* Apply Augmentation: Apply the defined augmentation techniques to both the image and its mask.\n",
    "\n",
    "* Save Augmented Images: Save the augmented images and their masks with the same names as the original images and masks.\n",
    "\n",
    "<div style=\"text-align: center;\">\n",
    "    <img src=\"Images/image-12.png\" alt=\"Alt text\" style=\"display: block; margin: 0 auto;\">\n",
    "</div>"
   ]
  },
  {
   "cell_type": "markdown",
   "metadata": {},
   "source": [
    "* TASK:"
   ]
  },
  {
   "cell_type": "code",
   "execution_count": null,
   "metadata": {},
   "outputs": [],
   "source": [
    "### Code\n",
    "import numpy as np\n",
    "import random\n",
    "import os\n",
    "from scipy.ndimage import rotate\n",
    "\n",
    "#Define functions for each operation\n",
    "def rotation(image, seed):\n",
    "    ...\n",
    "    return r_img\n",
    "\n",
    "def h_flip(image, seed):\n",
    "    ...\n",
    "    return  hflipped_img\n",
    "\n",
    "def v_flip(image, seed):\n",
    "    ...\n",
    "    return vflipped_img\n",
    "\n",
    "def v_transl(image, seed):\n",
    "    ...\n",
    "    return vtranslated_img\n",
    "\n",
    "def h_transl(image, seed):\n",
    "    ...\n",
    "    return htranslated_img"
   ]
  },
  {
   "cell_type": "markdown",
   "metadata": {},
   "source": [
    "* TASK:"
   ]
  },
  {
   "cell_type": "code",
   "execution_count": null,
   "metadata": {},
   "outputs": [],
   "source": [
    "###Use the functions to implement the augmentation for both images and masks\n",
    "transformations = {\n",
    "                 }                #use dictionary to store names of functions\n",
    "images_path=  #path to original images\n",
    "masks_path = #path to original masks\n",
    "img_augmented_path=  # path to store aumented images\n",
    "msk_augmented_path= # path to store aumented masks\n",
    "images=[] # to store paths of images from folder\n",
    "images_name=[]\n",
    "masks=[]\n",
    "masks_name=[]\n",
    "\n",
    "for im in os.listdir(images_path):  # read image name from folder and append its path into \"images\" array     \n",
    "    images.append(os.path.join(images_path,im))\n",
    "    images_name.append(im) \n",
    "\n",
    "for msk in os.listdir(masks_path):  # read image name from folder and append its path into \"images\" array     \n",
    "    masks.append(os.path.join(masks_path,msk))\n",
    "    masks_name.append(msk) "
   ]
  }
 ],
 "metadata": {
  "kernelspec": {
   "display_name": "kip-IW6OcQGv-py3.13",
   "language": "python",
   "name": "python3"
  },
  "language_info": {
   "codemirror_mode": {
    "name": "ipython",
    "version": 3
   },
   "file_extension": ".py",
   "mimetype": "text/x-python",
   "name": "python",
   "nbconvert_exporter": "python",
   "pygments_lexer": "ipython3",
   "version": "3.13.3"
  },
  "orig_nbformat": 4
 },
 "nbformat": 4,
 "nbformat_minor": 2
}
